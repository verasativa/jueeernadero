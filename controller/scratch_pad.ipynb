{
 "cells": [
  {
   "cell_type": "code",
   "execution_count": 55,
   "metadata": {},
   "outputs": [
    {
     "data": {
      "text/plain": [
       "{'clock': '2',\n",
       " 'sensors': {'internal': {'metrics': ['co2', 'temperature', 'humidity']},\n",
       "  'external': {'metrics': ['temperature', 'humidity']}},\n",
       " 'controls': {'relays': {'light': 22,\n",
       "   'light_fan': 24,\n",
       "   'fan': 26,\n",
       "   'heater': 28,\n",
       "   'pump_01': 30,\n",
       "   'pump_02': 32,\n",
       "   'pump_03': 34,\n",
       "   'pump_04': 36}}}"
      ]
     },
     "execution_count": 55,
     "metadata": {},
     "output_type": "execute_result"
    }
   ],
   "source": [
    "from importlib import reload\n",
    "import controller\n",
    "reload(controller)\n",
    "\n",
    "def rules(self):\n",
    "    if self.\n",
    "    pass\n",
    "\n",
    "indoor = controller.growEnviroment('carpa.json', rules)\n",
    "indoor.config"
   ]
  },
  {
   "cell_type": "code",
   "execution_count": 11,
   "metadata": {},
   "outputs": [
    {
     "name": "stdout",
     "output_type": "stream",
     "text": [
      "Collecting pyserial\n",
      "  Downloading pyserial-3.4-py2.py3-none-any.whl (193 kB)\n",
      "\u001b[K     |████████████████████████████████| 193 kB 271 kB/s eta 0:00:01\n",
      "\u001b[?25hInstalling collected packages: pyserial\n",
      "Successfully installed pyserial-3.4\n"
     ]
    }
   ],
   "source": [
    "!pip install pyserial"
   ]
  },
  {
   "cell_type": "code",
   "execution_count": 50,
   "metadata": {},
   "outputs": [],
   "source": [
    "import serial\n",
    "\n",
    "ser=serial.Serial(\n",
    "    port = '/dev/cu.usbmodem145201',\n",
    "    baudrate = 115200,\n",
    "    parity = serial.PARITY_NONE,\n",
    "    stopbits = serial.STOPBITS_ONE,\n",
    "    bytesize = serial.EIGHTBITS,\n",
    "    timeout = 1,\n",
    "    writeTimeout = 2\n",
    ")\n",
    "ser.flushInput()\n",
    "ser.flushOutput()"
   ]
  },
  {
   "cell_type": "code",
   "execution_count": null,
   "metadata": {},
   "outputs": [],
   "source": [
    "with serial.Serial() as ser:\n",
    "    ser.baudrate = 19200\n",
    "    ser.port = 'COM1'\n",
    "    ser.open()\n",
    "    ser.write(b'hello')"
   ]
  },
  {
   "cell_type": "code",
   "execution_count": 7,
   "metadata": {},
   "outputs": [],
   "source": [
    "import serial\n",
    "from time import sleep\n",
    "\n",
    "with serial.Serial() as ser:\n",
    "    ser.port = '/dev/cu.usbmodem145201'\n",
    "    ser.baudrate = 115200\n",
    "    ser.open()\n",
    "    \n",
    "    relay_list = [22, 24, 26, 28, 30, 32, 34, 36]\n",
    "\n",
    "    for i in relay_list:\n",
    "        ser.write(f'relay {i} start\\n'.encode())\n",
    "        # wait for it\n",
    "        sleep(2)\n",
    "        while ser.out_waiting > 0:\n",
    "            sleep(.01)\n",
    "    for i in reversed(relay_list):\n",
    "        ser.write(f'relay {i} stop\\n'.encode())\n",
    "        while ser.out_waiting > 0:\n",
    "            sleep(.01)"
   ]
  },
  {
   "cell_type": "code",
   "execution_count": 17,
   "metadata": {},
   "outputs": [
    {
     "data": {
      "text/plain": [
       "b'relay 22 start\\n'"
      ]
     },
     "execution_count": 17,
     "metadata": {},
     "output_type": "execute_result"
    }
   ],
   "source": [
    "f'relay {i} start\\n'.encode()"
   ]
  },
  {
   "cell_type": "code",
   "execution_count": 20,
   "metadata": {},
   "outputs": [
    {
     "data": {
      "text/plain": [
       "14"
      ]
     },
     "execution_count": 20,
     "metadata": {},
     "output_type": "execute_result"
    }
   ],
   "source": [
    "ser.write(f'relay {i} stop\\n'.encode())"
   ]
  },
  {
   "cell_type": "code",
   "execution_count": null,
   "metadata": {},
   "outputs": [],
   "source": []
  }
 ],
 "metadata": {
  "kernelspec": {
   "display_name": "Python 3",
   "language": "python",
   "name": "python3"
  },
  "language_info": {
   "codemirror_mode": {
    "name": "ipython",
    "version": 3
   },
   "file_extension": ".py",
   "mimetype": "text/x-python",
   "name": "python",
   "nbconvert_exporter": "python",
   "pygments_lexer": "ipython3",
   "version": "3.8.3"
  }
 },
 "nbformat": 4,
 "nbformat_minor": 4
}
